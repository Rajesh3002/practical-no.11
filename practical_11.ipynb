{
  "nbformat": 4,
  "nbformat_minor": 0,
  "metadata": {
    "colab": {
      "name": "practical 11.ipynb",
      "provenance": []
    },
    "kernelspec": {
      "name": "python3",
      "display_name": "Python 3"
    },
    "language_info": {
      "name": "python"
    }
  },
  "cells": [
    {
      "cell_type": "markdown",
      "source": [
        "Write a python program using numpy to sort the elements in the given array."
      ],
      "metadata": {
        "id": "zbDBPUBnGK82"
      }
    },
    {
      "cell_type": "markdown",
      "source": [
        "Example 1"
      ],
      "metadata": {
        "id": "ffgW8tYuGuly"
      }
    },
    {
      "cell_type": "code",
      "source": [
        "import numpy as np\n",
        "nums =  np.random.rand(10)\n",
        "print(\"Original array:\")\n",
        "print(nums)\n",
        "print(\"\\nSorted first 5 elements:\")\n",
        "print(nums[np.argpartition(nums,range(5))])"
      ],
      "metadata": {
        "colab": {
          "base_uri": "https://localhost:8080/"
        },
        "id": "TciABkcpGwbq",
        "outputId": "0ca86c3a-b382-4028-ab74-313ccd6e3c19"
      },
      "execution_count": 1,
      "outputs": [
        {
          "output_type": "stream",
          "name": "stdout",
          "text": [
            "Original array:\n",
            "[0.59032161 0.34686303 0.32443391 0.91643662 0.27161165 0.25708026\n",
            " 0.91923788 0.55198892 0.83555527 0.89669865]\n",
            "\n",
            "Sorted first 5 elements:\n",
            "[0.25708026 0.27161165 0.32443391 0.34686303 0.55198892 0.59032161\n",
            " 0.91923788 0.91643662 0.83555527 0.89669865]\n"
          ]
        }
      ]
    },
    {
      "cell_type": "markdown",
      "source": [
        "Example 2-Sort Array in Ascending Order"
      ],
      "metadata": {
        "id": "z0I7iXjjG8zD"
      }
    },
    {
      "cell_type": "code",
      "source": [
        "import numpy as np\n",
        "\n",
        "orarr = np.array([10, 60, 100, 20, 8, 35, 70])\n",
        "print(\"***Sorting Numpy Array in Ascending Order***\")\n",
        "print(\"Original Array = \", orarr)\n",
        "\n",
        "orarr.sort()\n",
        "print(\"sorted Array   = \", orarr)"
      ],
      "metadata": {
        "colab": {
          "base_uri": "https://localhost:8080/"
        },
        "id": "5OkZ-w8bHCi8",
        "outputId": "7202c614-cc72-41df-efbe-5de741a3eabf"
      },
      "execution_count": 10,
      "outputs": [
        {
          "output_type": "stream",
          "name": "stdout",
          "text": [
            "***Sorting Numpy Array in Ascending Order***\n",
            "Original Array =  [ 10  60 100  20   8  35  70]\n",
            "sorted Array   =  [  8  10  20  35  60  70 100]\n"
          ]
        }
      ]
    },
    {
      "cell_type": "markdown",
      "source": [
        "Example 3-Sort Array in Descending Order"
      ],
      "metadata": {
        "id": "ersh1_wkHyoj"
      }
    },
    {
      "cell_type": "code",
      "source": [
        "import numpy as np\n",
        "\n",
        "orarr = np.array([25, 95, 75, 80, 40, 20, 140, 100])\n",
        "print(\"***Sorting Numpy Array in Descending Order***\")\n",
        "print(\"Original Array             = \", orarr)\n",
        "\n",
        "orarr.sort()\n",
        "descarr = orarr[::-1]\n",
        "print(\"Array in Descending Order  = \", descarr)"
      ],
      "metadata": {
        "colab": {
          "base_uri": "https://localhost:8080/"
        },
        "id": "08-URmJ8H4dB",
        "outputId": "dd7d3ce5-b749-4004-9a06-7094b610c154"
      },
      "execution_count": 14,
      "outputs": [
        {
          "output_type": "stream",
          "name": "stdout",
          "text": [
            "***Sorting Numpy Array in Descending Order***\n",
            "Original Array             =  [ 25  95  75  80  40  20 140 100]\n",
            "Array in Descending Order  =  [140 100  95  80  75  40  25  20]\n"
          ]
        }
      ]
    }
  ]
}